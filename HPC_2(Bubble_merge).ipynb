{
  "nbformat": 4,
  "nbformat_minor": 0,
  "metadata": {
    "colab": {
      "provenance": [],
      "gpuType": "T4"
    },
    "kernelspec": {
      "name": "python3",
      "display_name": "Python 3"
    },
    "language_info": {
      "name": "python"
    },
    "accelerator": "GPU"
  },
  "cells": [
    {
      "cell_type": "code",
      "source": [
        "TO INSTALL (DO NOT RUN)\n",
        "!apt-get update\n",
        "!apt-get install -y g++ libomp-dev\n"
      ],
      "metadata": {
        "id": "fUFVDx4utVJ1",
        "colab": {
          "base_uri": "https://localhost:8080/"
        },
        "outputId": "7fd7958e-e27f-4d06-a2f6-87925a878eec"
      },
      "execution_count": 9,
      "outputs": [
        {
          "output_type": "stream",
          "name": "stdout",
          "text": [
            "\r0% [Working]\r            \rHit:1 https://cloud.r-project.org/bin/linux/ubuntu jammy-cran40/ InRelease\n",
            "\r0% [Connecting to archive.ubuntu.com] [Connecting to security.ubuntu.com (91.18\r                                                                               \rHit:2 https://developer.download.nvidia.com/compute/cuda/repos/ubuntu2204/x86_64  InRelease\n",
            "Hit:3 https://r2u.stat.illinois.edu/ubuntu jammy InRelease\n",
            "Hit:4 https://ppa.launchpadcontent.net/deadsnakes/ppa/ubuntu jammy InRelease\n",
            "Hit:5 https://ppa.launchpadcontent.net/graphics-drivers/ppa/ubuntu jammy InRelease\n",
            "Hit:6 https://ppa.launchpadcontent.net/ubuntugis/ppa/ubuntu jammy InRelease\n",
            "Hit:7 http://archive.ubuntu.com/ubuntu jammy InRelease\n",
            "Hit:8 http://archive.ubuntu.com/ubuntu jammy-updates InRelease\n",
            "Hit:9 http://archive.ubuntu.com/ubuntu jammy-backports InRelease\n",
            "Hit:10 http://security.ubuntu.com/ubuntu jammy-security InRelease\n",
            "Reading package lists... Done\n",
            "W: Skipping acquire of configured file 'main/source/Sources' as repository 'https://r2u.stat.illinois.edu/ubuntu jammy InRelease' does not seem to provide it (sources.list entry misspelt?)\n",
            "Reading package lists... Done\n",
            "Building dependency tree... Done\n",
            "Reading state information... Done\n",
            "g++ is already the newest version (4:11.2.0-1ubuntu1).\n",
            "libomp-dev is already the newest version (1:14.0-55~exp2).\n",
            "0 upgraded, 0 newly installed, 0 to remove and 44 not upgraded.\n"
          ]
        }
      ]
    },
    {
      "cell_type": "code",
      "source": [
        "%%writefile sort_openmp.cpp\n",
        "#include <iostream>\n",
        "#include <vector>\n",
        "#include <cstdlib>\n",
        "#include <ctime>\n",
        "#include <omp.h>\n",
        "using namespace std;\n",
        "\n",
        "// Sequential Bubble Sort\n",
        "void bubbleSort(vector<int>& arr) {\n",
        "    int n = arr.size();\n",
        "    for (int i = 0; i < n-1; i++)\n",
        "        for (int j = 0; j < n-i-1; j++)\n",
        "            if (arr[j] > arr[j+1])\n",
        "                swap(arr[j], arr[j+1]);\n",
        "}\n",
        "\n",
        "// Parallel Bubble Sort using OpenMP\n",
        "void parallelBubbleSort(vector<int>& arr) {\n",
        "    int n = arr.size();\n",
        "    for (int i = 0; i < n; i++) {\n",
        "        #pragma omp parallel for\n",
        "        for (int j = i % 2; j < n - 1; j += 2) {\n",
        "            if (arr[j] > arr[j + 1]) {\n",
        "                swap(arr[j], arr[j + 1]);\n",
        "            }\n",
        "        }\n",
        "    }\n",
        "}\n",
        "\n",
        "// Sequential Merge Sort\n",
        "void merge(vector<int>& arr, int l, int m, int r) {\n",
        "    int n1 = m - l + 1, n2 = r - m;\n",
        "    vector<int> L(n1), R(n2);\n",
        "    for (int i = 0; i < n1; i++) L[i] = arr[l + i];\n",
        "    for (int j = 0; j < n2; j++) R[j] = arr[m + 1 + j];\n",
        "\n",
        "    int i = 0, j = 0, k = l;\n",
        "    while (i < n1 && j < n2)\n",
        "        arr[k++] = (L[i] <= R[j]) ? L[i++] : R[j++];\n",
        "    while (i < n1) arr[k++] = L[i++];\n",
        "    while (j < n2) arr[k++] = R[j++];\n",
        "}\n",
        "\n",
        "void mergeSort(vector<int>& arr, int l, int r) {\n",
        "    if (l < r) {\n",
        "        int m = l + (r - l)/2;\n",
        "        mergeSort(arr, l, m);\n",
        "        mergeSort(arr, m+1, r);\n",
        "        merge(arr, l, m, r);\n",
        "    }\n",
        "}\n",
        "\n",
        "// Parallel Merge Sort using OpenMP\n",
        "void parallelMergeSort(vector<int>& arr, int l, int r, int depth = 0) {\n",
        "    if (l < r) {\n",
        "        int m = l + (r - l)/2;\n",
        "\n",
        "        if (depth <= 4) { // limit recursion to avoid thread overhead\n",
        "            #pragma omp parallel sections\n",
        "            {\n",
        "                #pragma omp section\n",
        "                parallelMergeSort(arr, l, m, depth + 1);\n",
        "                #pragma omp section\n",
        "                parallelMergeSort(arr, m + 1, r, depth + 1);\n",
        "            }\n",
        "        } else {\n",
        "            mergeSort(arr, l, m);\n",
        "            mergeSort(arr, m + 1, r);\n",
        "        }\n",
        "        merge(arr, l, m, r);\n",
        "    }\n",
        "}\n",
        "\n",
        "int main() {\n",
        "    const int SIZE = 10000; // Adjust for testing\n",
        "    vector<int> arr1(SIZE), arr2(SIZE), arr3(SIZE), arr4(SIZE);\n",
        "\n",
        "    srand(time(0));\n",
        "    for (int i = 0; i < SIZE; i++) {\n",
        "        int val = rand() % 100000;\n",
        "        arr1[i] = arr2[i] = arr3[i] = arr4[i] = val;\n",
        "    }\n",
        "\n",
        "    double start, end;\n",
        "\n",
        "    // Sequential Bubble Sort\n",
        "    start = omp_get_wtime();\n",
        "    bubbleSort(arr1);\n",
        "    end = omp_get_wtime();\n",
        "    cout << \"Sequential Bubble Sort Time: \" << end - start << \" sec\\n\";\n",
        "\n",
        "    // Parallel Bubble Sort\n",
        "    start = omp_get_wtime();\n",
        "    parallelBubbleSort(arr2);\n",
        "    end = omp_get_wtime();\n",
        "    cout << \"Parallel Bubble Sort Time: \" << end - start << \" sec\\n\";\n",
        "\n",
        "    // Sequential Merge Sort\n",
        "    start = omp_get_wtime();\n",
        "    mergeSort(arr3, 0, SIZE - 1);\n",
        "    end = omp_get_wtime();\n",
        "    cout << \"Sequential Merge Sort Time: \" << end - start << \" sec\\n\";\n",
        "\n",
        "    // Parallel Merge Sort\n",
        "    start = omp_get_wtime();\n",
        "    parallelMergeSort(arr4, 0, SIZE - 1);\n",
        "    end = omp_get_wtime();\n",
        "    cout << \"Parallel Merge Sort Time: \" << end - start << \" sec\\n\";\n",
        "\n",
        "    return 0;\n",
        "}\n",
        "\n"
      ],
      "metadata": {
        "colab": {
          "base_uri": "https://localhost:8080/"
        },
        "id": "PhaS8cgstqbh",
        "outputId": "3b83c0db-4d96-469e-cd71-874e0e57e1f1"
      },
      "execution_count": 6,
      "outputs": [
        {
          "output_type": "stream",
          "name": "stdout",
          "text": [
            "Overwriting sort_openmp.cpp\n"
          ]
        }
      ]
    },
    {
      "cell_type": "code",
      "source": [
        "!g++ -fopenmp sort_openmp.cpp -o sort_openmp\n",
        "!./sort_openmp\n"
      ],
      "metadata": {
        "colab": {
          "base_uri": "https://localhost:8080/"
        },
        "id": "uX50MP-wuUs3",
        "outputId": "933b583d-93f7-44a0-b6da-1cd3b22a27c3"
      },
      "execution_count": 8,
      "outputs": [
        {
          "output_type": "stream",
          "name": "stdout",
          "text": [
            "Sequential Bubble Sort Time: 0.746827 sec\n",
            "Parallel Bubble Sort Time: 0.569514 sec\n",
            "Sequential Merge Sort Time: 0.00693569 sec\n",
            "Parallel Merge Sort Time: 0.00502643 sec\n"
          ]
        }
      ]
    },
    {
      "cell_type": "code",
      "source": [],
      "metadata": {
        "id": "IOnG1KpeufG-"
      },
      "execution_count": null,
      "outputs": []
    }
  ]
}