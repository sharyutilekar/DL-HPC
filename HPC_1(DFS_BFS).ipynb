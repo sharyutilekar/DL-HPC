{
  "nbformat": 4,
  "nbformat_minor": 0,
  "metadata": {
    "colab": {
      "provenance": [],
      "gpuType": "T4"
    },
    "kernelspec": {
      "name": "python3",
      "display_name": "Python 3"
    },
    "language_info": {
      "name": "python"
    },
    "accelerator": "GPU"
  },
  "cells": [
    {
      "cell_type": "code",
      "execution_count": 4,
      "metadata": {
        "colab": {
          "base_uri": "https://localhost:8080/"
        },
        "id": "GvnkQ96cqTF3",
        "outputId": "fb77d60f-c1a3-4d26-f6c2-2c80ce8f7c0a"
      },
      "outputs": [
        {
          "output_type": "stream",
          "name": "stdout",
          "text": [
            "Overwriting parallel_bfs_dfs.cpp\n"
          ]
        }
      ],
      "source": [
        "%%writefile parallel_bfs_dfs.cpp\n",
        "#include <iostream>\n",
        "#include <vector>\n",
        "#include <queue>\n",
        "#include <stack>\n",
        "#include <omp.h>\n",
        "using namespace std;\n",
        "\n",
        "// Parallel BFS using OpenMP\n",
        "void parallelBFS(vector<vector<int>>& graph, int start) {\n",
        "    int n = graph.size();\n",
        "    vector<bool> visited(n, false);\n",
        "    queue<int> q;\n",
        "\n",
        "    visited[start] = true;\n",
        "    q.push(start);\n",
        "\n",
        "    cout << \"Parallel BFS traversal: \";\n",
        "\n",
        "    while (!q.empty()) {\n",
        "        int size = q.size();\n",
        "\n",
        "        #pragma omp parallel for\n",
        "        for (int i = 0; i < size; ++i) {\n",
        "            int current;\n",
        "\n",
        "            #pragma omp critical\n",
        "            {\n",
        "                if (!q.empty()) {\n",
        "                    current = q.front();\n",
        "                    q.pop();\n",
        "                    cout << current << \" \";\n",
        "                }\n",
        "            }\n",
        "\n",
        "            // Parallelizing the exploration of neighbors\n",
        "            #pragma omp parallel for\n",
        "            for (int j = 0; j < graph[current].size(); j++) {\n",
        "                int neighbor = graph[current][j];\n",
        "                #pragma omp critical\n",
        "                {\n",
        "                    if (!visited[neighbor]) {\n",
        "                        visited[neighbor] = true;\n",
        "                        q.push(neighbor);\n",
        "                    }\n",
        "                }\n",
        "            }\n",
        "        }\n",
        "    }\n",
        "    cout << endl;\n",
        "}\n",
        "\n",
        "// Parallel DFS using OpenMP\n",
        "void parallelDFS(vector<vector<int>>& graph, int start) {\n",
        "    int n = graph.size();\n",
        "    vector<bool> visited(n, false);\n",
        "    stack<int> s;\n",
        "    s.push(start);\n",
        "\n",
        "    cout << \"Parallel DFS traversal: \";\n",
        "\n",
        "    while (!s.empty()) {\n",
        "        int current;\n",
        "        bool valid = false;\n",
        "\n",
        "        #pragma omp critical\n",
        "        {\n",
        "            if (!s.empty()) {\n",
        "                current = s.top();\n",
        "                s.pop();\n",
        "                valid = true;\n",
        "            }\n",
        "        }\n",
        "\n",
        "        if (!valid) continue;\n",
        "\n",
        "        if (!visited[current]) {\n",
        "            visited[current] = true;\n",
        "            cout << current << \" \";\n",
        "\n",
        "            // Parallelizing exploration of neighbors\n",
        "            #pragma omp parallel for\n",
        "            for (int i = 0; i < graph[current].size(); i++) {\n",
        "                int neighbor = graph[current][i];\n",
        "                #pragma omp critical\n",
        "                {\n",
        "                    if (!visited[neighbor]) {\n",
        "                        s.push(neighbor);\n",
        "                    }\n",
        "                }\n",
        "            }\n",
        "        }\n",
        "    }\n",
        "    cout << endl;\n",
        "}\n",
        "\n",
        "int main() {\n",
        "    vector<vector<int>> graph = {\n",
        "        {1, 2},\n",
        "        {0, 3, 4},\n",
        "        {0, 4},\n",
        "        {1, 5},\n",
        "        {1, 2, 5},\n",
        "        {3, 4}\n",
        "    };\n",
        "\n",
        "    int startNode = 0;\n",
        "\n",
        "    cout << \"Graph traversal using OpenMP from node \" << startNode << \":\\n\";\n",
        "    parallelBFS(graph, startNode);\n",
        "    parallelDFS(graph, startNode);\n",
        "\n",
        "    return 0;\n",
        "}\n"
      ]
    },
    {
      "cell_type": "code",
      "source": [
        "!g++ -fopenmp parallel_bfs_dfs.cpp -o parallel_bfs_dfs\n",
        "!./parallel_bfs_dfs\n"
      ],
      "metadata": {
        "colab": {
          "base_uri": "https://localhost:8080/"
        },
        "id": "bWz2PHU-qd-c",
        "outputId": "5aa1036b-659e-40de-93ee-537330f72492"
      },
      "execution_count": 3,
      "outputs": [
        {
          "output_type": "stream",
          "name": "stdout",
          "text": [
            "Graph traversal using OpenMP from node 0:\n",
            "Parallel BFS traversal: 0 1 2 4 3 5 \n",
            "Parallel DFS traversal: 0 1 3 5 4 2 \n"
          ]
        }
      ]
    },
    {
      "cell_type": "code",
      "source": [],
      "metadata": {
        "id": "g3LfUEt7rMFA"
      },
      "execution_count": 3,
      "outputs": []
    }
  ]
}