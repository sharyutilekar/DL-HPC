{
  "nbformat": 4,
  "nbformat_minor": 0,
  "metadata": {
    "colab": {
      "provenance": [],
      "gpuType": "T4"
    },
    "kernelspec": {
      "name": "python3",
      "display_name": "Python 3"
    },
    "language_info": {
      "name": "python"
    },
    "accelerator": "GPU"
  },
  "cells": [
    {
      "cell_type": "code",
      "source": [
        "do not run this cell in exam just for checking and installing the cuda\n",
        "\n",
        "# Cleanup conflicting versions\n",
        "!pip uninstall -y cupy-cuda11x cupy-cuda12x cupy\n",
        "\n",
        "# Install compatible CuPy version\n",
        "!pip install -q cupy-cuda11x\n",
        "\n",
        "import cupy as cp\n",
        "\n",
        "try:\n",
        "    cp.cuda.Device(0).compute_capability\n",
        "    print(\"✅ GPU is available and CuPy can use it.\")\n",
        "except cp.cuda.runtime.CUDARuntimeError as e:\n",
        "    print(\"❌ GPU not available or incompatible:\", e)\n",
        "\n",
        "\n",
        "steps to convert CPU in GPU\n",
        "\n",
        "Go to Runtime > Change runtime type\n",
        "\n",
        "Set Hardware accelerator: GPU\n",
        "\n",
        "Click Save\n",
        "\n",
        "Restart runtime after setting GPU and run below code"
      ],
      "metadata": {
        "id": "xqU3n9vSndnQ"
      },
      "execution_count": null,
      "outputs": []
    },
    {
      "cell_type": "code",
      "execution_count": 4,
      "metadata": {
        "id": "6_4mGgCWj3wT"
      },
      "outputs": [],
      "source": [
        "import cupy as cp\n",
        "import numpy as np\n",
        "import time"
      ]
    },
    {
      "cell_type": "code",
      "source": [
        "# Size of vectors\n",
        "n = 1 << 4  # 16 elements\n",
        "\n",
        "# Random arrays on CPU\n",
        "a = np.random.randint(0, 1000, size=n).astype(np.int32)\n",
        "b = np.random.randint(0, 1000, size=n).astype(np.int32)\n",
        "d = a + b  # CPU addition\n",
        "\n",
        "# Print input vectors\n",
        "print(\"Given array A is =>\",a)\n",
        "print(\"\\nGiven array B is =>\",b)\n"
      ],
      "metadata": {
        "colab": {
          "base_uri": "https://localhost:8080/"
        },
        "id": "fE-c2h2ZkA0Q",
        "outputId": "37401e8b-f940-4262-a3ec-a302e0cf4388"
      },
      "execution_count": 5,
      "outputs": [
        {
          "output_type": "stream",
          "name": "stdout",
          "text": [
            "Given array A is => [805  35 445  49 753 300 383 930 559 651 139 763 880  10 517 579]\n",
            "\n",
            "Given array B is => [142 437 726 958 450 807 690 378 271  64 898 658 203 778  29 453]\n"
          ]
        }
      ]
    },
    {
      "cell_type": "code",
      "source": [
        "# Copy data to GPU\n",
        "a_gpu = cp.array(a)\n",
        "b_gpu = cp.array(b)\n",
        "\n",
        "# Time GPU addition\n",
        "start = cp.cuda.Event()\n",
        "end = cp.cuda.Event()\n",
        "start.record()\n",
        "\n",
        "# GPU addition\n",
        "c_gpu = a_gpu + b_gpu\n",
        "\n",
        "end.record()\n",
        "end.synchronize()\n",
        "gpu_time = cp.cuda.get_elapsed_time(start, end)  # in milliseconds\n",
        "\n",
        "# Copy result back to CPU\n",
        "c = cp.asnumpy(c_gpu)\n",
        "\n",
        "# Display results\n",
        "print(\"\\nCPU sum is =>\")\n",
        "print(d)\n",
        "print(\"\\nGPU sum is =>\")\n",
        "print(c)"
      ],
      "metadata": {
        "colab": {
          "base_uri": "https://localhost:8080/"
        },
        "id": "6WwE7n4AkFz7",
        "outputId": "9e6e45cd-b038-4e63-a839-ca4f1340f251"
      },
      "execution_count": 6,
      "outputs": [
        {
          "output_type": "stream",
          "name": "stdout",
          "text": [
            "\n",
            "CPU sum is =>\n",
            "[ 947  472 1171 1007 1203 1107 1073 1308  830  715 1037 1421 1083  788\n",
            "  546 1032]\n",
            "\n",
            "GPU sum is =>\n",
            "[ 947  472 1171 1007 1203 1107 1073 1308  830  715 1037 1421 1083  788\n",
            "  546 1032]\n"
          ]
        }
      ]
    },
    {
      "cell_type": "code",
      "source": [
        "# Check for errors\n",
        "error = np.sum(np.abs(d - c))\n",
        "for i in range(n):\n",
        "    if d[i] != c[i]:\n",
        "        print(f\"Error at ({i}) => GPU: {c[i]}, CPU: {d[i]}\")\n",
        "\n",
        "print(f\"\\nTotal Error: {error}\")\n",
        "print(f\"Time Elapsed on GPU (ms): {gpu_time:.4f}\")\n"
      ],
      "metadata": {
        "colab": {
          "base_uri": "https://localhost:8080/"
        },
        "id": "ZYyD2N7QkIbW",
        "outputId": "bfe3f012-ddc8-4734-c8b2-3ea07a0ed420"
      },
      "execution_count": 7,
      "outputs": [
        {
          "output_type": "stream",
          "name": "stdout",
          "text": [
            "\n",
            "Total Error: 0\n",
            "Time Elapsed on GPU (ms): 781.0089\n"
          ]
        }
      ]
    }
  ]
}