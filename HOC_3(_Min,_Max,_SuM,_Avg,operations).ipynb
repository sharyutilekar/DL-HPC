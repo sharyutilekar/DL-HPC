{
  "nbformat": 4,
  "nbformat_minor": 0,
  "metadata": {
    "colab": {
      "provenance": []
    },
    "kernelspec": {
      "name": "python3",
      "display_name": "Python 3"
    },
    "language_info": {
      "name": "python"
    }
  },
  "cells": [
    {
      "cell_type": "code",
      "execution_count": 5,
      "metadata": {
        "colab": {
          "base_uri": "https://localhost:8080/"
        },
        "id": "CMiNuLQ1vWrp",
        "outputId": "31894797-fa73-48ae-e29e-6caa74e8be32"
      },
      "outputs": [
        {
          "output_type": "stream",
          "name": "stdout",
          "text": [
            "Overwriting reduction_openmp.cpp\n"
          ]
        }
      ],
      "source": [
        "%%writefile reduction_openmp.cpp\n",
        "#include <iostream>\n",
        "#include <vector>\n",
        "#include <cstdlib>\n",
        "#include <ctime>\n",
        "#include <omp.h>\n",
        "using namespace std;\n",
        "\n",
        "int main() {\n",
        "    const int SIZE = 1000000;\n",
        "    vector<int> data(SIZE);\n",
        "\n",
        "    // Fill array with random integers\n",
        "    srand(time(0));\n",
        "    for (int i = 0; i < SIZE; ++i)\n",
        "        data[i] = rand() % 1000;\n",
        "\n",
        "    int minVal = data[0], maxVal = data[0], sum = 0;\n",
        "\n",
        "    double start, end;\n",
        "\n",
        "    start = omp_get_wtime();\n",
        "\n",
        "    #pragma omp parallel for reduction(min:minVal) reduction(max:maxVal) reduction(+:sum)\n",
        "    for (int i = 0; i < SIZE; ++i) {\n",
        "        if (data[i] < minVal) minVal = data[i];\n",
        "        if (data[i] > maxVal) maxVal = data[i];\n",
        "        sum += data[i];\n",
        "    }\n",
        "\n",
        "    end = omp_get_wtime();\n",
        "\n",
        "    double avg = (double)sum / SIZE;\n",
        "\n",
        "    cout << \"Parallel Reduction Results:\\n\";\n",
        "    cout << \"Parallel Reduction Minimum: \" << minVal << endl;\n",
        "    cout << \"Parallel Reduction Maximum: \" << maxVal << endl;\n",
        "    cout << \"Parallel ReductionSum: \" << sum << endl;\n",
        "    cout << \"Parallel Reduction Average: \" << avg << endl;\n",
        "    cout << \"Time taken: \" << end - start << \" sec\\n\";\n",
        "\n",
        "    return 0;\n",
        "}\n"
      ]
    },
    {
      "cell_type": "code",
      "source": [
        "!g++ -fopenmp reduction_openmp.cpp -o reduction_openmp\n",
        "!./reduction_openmp\n"
      ],
      "metadata": {
        "colab": {
          "base_uri": "https://localhost:8080/"
        },
        "id": "VbvWO2PMvjeS",
        "outputId": "955c2ddf-341e-427b-a022-8247f00633ea"
      },
      "execution_count": 6,
      "outputs": [
        {
          "output_type": "stream",
          "name": "stdout",
          "text": [
            "Parallel Reduction Results:\n",
            "Parallel Reduction Minimum: 0\n",
            "Parallel Reduction Maximum: 999\n",
            "Parallel ReductionSum: 499486868\n",
            "Parallel Reduction Average: 499.487\n",
            "Time taken: 0.00988167 sec\n"
          ]
        }
      ]
    },
    {
      "cell_type": "code",
      "source": [],
      "metadata": {
        "id": "BnUJMpQWvvVV"
      },
      "execution_count": null,
      "outputs": []
    }
  ]
}